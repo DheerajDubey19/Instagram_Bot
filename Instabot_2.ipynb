{
 "cells": [
  {
   "cell_type": "code",
   "execution_count": null,
   "id": "46249987",
   "metadata": {},
   "outputs": [],
   "source": [
    "from selenium import webdriver\n",
    "from datetime import date\n",
    "from selenium.webdriver.common.keys import Keys\n",
    "from selenium.webdriver.support.ui import WebDriverWait\n",
    "from selenium.webdriver.support import expected_conditions as EC\n",
    "from selenium.webdriver.common.by import By\n",
    "import time\n",
    "from selenium.common.exceptions import StaleElementReferenceException,TimeoutException,NoSuchElementException"
   ]
  },
  {
   "cell_type": "code",
   "execution_count": null,
   "id": "6afe9a50",
   "metadata": {},
   "outputs": [],
   "source": [
    "driver=webdriver.Chrome('C:\\Program Files\\Python310\\chromedriver')\n",
    "driver.get('https://www.instagram.com/accounts/login/?hl=en')"
   ]
  },
  {
   "cell_type": "code",
   "execution_count": null,
   "id": "d2550e56",
   "metadata": {},
   "outputs": [],
   "source": [
    "def login(use,pasd):\n",
    "    user=driver.find_element_by_xpath('//*[@id=\"loginForm\"]/div/div[1]/div/label/input')\n",
    "    user.click()\n",
    "    user.send_keys(use)\n",
    "    password=driver.find_element_by_xpath('//*[@id=\"loginForm\"]/div/div[2]/div/label/input')\n",
    "    password.click()\n",
    "    password.send_keys(pasd)\n",
    "    login=WebDriverWait(driver,10).until(EC.presence_of_element_located((By.XPATH,'//form[@id=\"loginForm\"]/div/div[3]')))\n",
    "    login.click()\n",
    "    time.sleep(3)\n",
    "    try:\n",
    "        info=WebDriverWait(driver,10).until(EC.presence_of_element_located((By.CSS_SELECTOR,'button.sqdOP.yWX7d.y3zKF')))\n",
    "        info.click()\n",
    "    except:\n",
    "        pass\n",
    "    time.sleep(3)\n",
    "\n",
    "    try:\n",
    "        noti=WebDriverWait(driver,10).until(EC.presence_of_element_located((By.CSS_SELECTOR,'button._a9--._a9_1')))\n",
    "        noti.click()\n",
    "    except:\n",
    "        pass\n"
   ]
  },
  {
   "cell_type": "code",
   "execution_count": null,
   "id": "a462f7a5",
   "metadata": {},
   "outputs": [],
   "source": [
    "login('Instagram id','password')"
   ]
  },
  {
   "cell_type": "code",
   "execution_count": null,
   "id": "37f07677",
   "metadata": {},
   "outputs": [],
   "source": [
    "def search(nm):\n",
    "    try:\n",
    "        search_box=driver.find_element_by_class_name('_aaw9')\n",
    "        search_box.click()\n",
    "    except:\n",
    "        pass\n",
    "    time.sleep(2)\n",
    "    \n",
    "    try:\n",
    "        cut=WebDriverWait(driver,10).until(EC.presence_of_element_located((By.CLASS_NAME,'_aawn._9-lv')))\n",
    "        cut.click()\n",
    "    except:\n",
    "        pass\n",
    "    time.sleep(1)\n",
    "    \n",
    "\n",
    "    try:\n",
    "        search_box=driver.find_element_by_class_name('_aaw9')\n",
    "        search_box.click()\n",
    "    except:\n",
    "        pass\n",
    "    time.sleep(2)\n",
    "    \n",
    "    input_text=WebDriverWait(driver,10).until(EC.element_to_be_clickable((By.XPATH, \"//input[@placeholder='Search']\")))\n",
    "    input_text.send_keys(nm)"
   ]
  },
  {
   "cell_type": "markdown",
   "id": "e0e0f521",
   "metadata": {},
   "source": [
    "## Now your friend has followed a lot of different food bloggers, he needs to analyse the habits of these bloggers.\n",
    "## From the list of instagram handles you obtained when you searched ‘food’ in previous project. Open the first 10 handles and find the top 5 which have the highest number of followers\n",
    "## Now Find the number of posts these handles have done in the previous 3 days.\n",
    "## Depict this information using a suitable graph."
   ]
  },
  {
   "cell_type": "code",
   "execution_count": null,
   "id": "4708bc09",
   "metadata": {},
   "outputs": [],
   "source": [
    "search('food')\n",
    "c=WebDriverWait(driver,30).until(EC.presence_of_all_elements_located((By.XPATH,'//div[@role=\"none\"]')))\n",
    "l=[]\n",
    "for i in c[:10]:\n",
    "    z=(i.text).split('\\n')\n",
    "#     l.append((i.text).split('\\n'))\n",
    "    if z[0]!='#':\n",
    "        l.append(z[0])\n",
    "#     print(z[0])"
   ]
  },
  {
   "cell_type": "code",
   "execution_count": null,
   "id": "bc564ffe",
   "metadata": {},
   "outputs": [],
   "source": [
    "def open_profile(nm):\n",
    "    search(nm) \n",
    "    open_So_Delhi=WebDriverWait(driver,30).until(EC.presence_of_element_located((By.CLASS_NAME,'oajrlxb2.g5ia77u1.qu0x051f.esr5mh6w.e9989ue4.r7d6kgcz.rq0escxv.nhd2j8a9.nc684nl6.p7hjln8o.kvgmc6g5.cxmmr5t8.oygrvhab.hcukyx3x.jb3vyjys.rz4wbd8a.qt6c0cv9.a8nywdso.i1ao9s8h.esuyzwwr.f1sip0of.lzcic4wl._abm4._a6hd')))\n",
    "    open_So_Delhi.click()"
   ]
  },
  {
   "cell_type": "code",
   "execution_count": null,
   "id": "4c897498",
   "metadata": {},
   "outputs": [],
   "source": [
    "def top_id():\n",
    "    d={}\n",
    "    for i in l[:10]:\n",
    "        open_profile(i)\n",
    "        time.sleep(1)\n",
    "        all_detail=WebDriverWait(driver,15).until(EC.presence_of_all_elements_located((By.CSS_SELECTOR,'ul._aa_7 >li')))\n",
    "\n",
    "        total_followers=(all_detail[1].text.split(\" \"))[0].replace(',',\"\")\n",
    "        if 'K' in total_followers:\n",
    "            total_followers=float(total_followers.replace('K',''))*1000\n",
    "        elif 'M' in total_followers:\n",
    "             total_followers=float(total_followers.replace('M',''))*1000000\n",
    "        d[i]=int(total_followers)\n",
    "    return d"
   ]
  },
  {
   "cell_type": "code",
   "execution_count": null,
   "id": "7b385eac",
   "metadata": {},
   "outputs": [],
   "source": [
    "a=top_id()\n",
    "print(a)"
   ]
  },
  {
   "cell_type": "code",
   "execution_count": null,
   "id": "575d29b2",
   "metadata": {},
   "outputs": [],
   "source": [
    "marklist = sorted(a.items(), key=lambda x:x[1], reverse=True)\n",
    "sortdict = dict(marklist)\n",
    "# print(sortdict)\n",
    "out = dict(list(sortdict.items())[0: 5]) \n",
    "print(out)"
   ]
  },
  {
   "cell_type": "code",
   "execution_count": null,
   "id": "fb0687e8",
   "metadata": {},
   "outputs": [],
   "source": [
    "lst=[]\n",
    "for i in out:\n",
    "    lst.append(i)\n",
    "print(lst)"
   ]
  },
  {
   "cell_type": "code",
   "execution_count": null,
   "id": "8e46438e",
   "metadata": {},
   "outputs": [],
   "source": [
    "for i in lst:\n",
    "    open_profile(i)\n",
    "    time.sleep(1)"
   ]
  },
  {
   "cell_type": "code",
   "execution_count": null,
   "id": "121907a0",
   "metadata": {},
   "outputs": [],
   "source": [
    "# opt=input()\n",
    "cur_date=date.today()\n",
    "print(str(cur_date))\n"
   ]
  },
  {
   "cell_type": "code",
   "execution_count": null,
   "id": "2e52ed1b",
   "metadata": {},
   "outputs": [],
   "source": [
    "post=WebDriverWait(driver,30).until(EC.presence_of_all_elements_located((By.CSS_SELECTOR,'div._aagw')))\n",
    "for i in post[:5]:\n",
    "    i.click()\n",
    "    click=WebDriverWait(driver,30).until(EC.presence_of_element_located((By.CSS_SELECTOR,'time._aaqe'))).get_attribute('title')\n",
    "    a=click.split()\n",
    "    a[1]=a[1].replace(',','')\n",
    "    dct={'Jan':'1','Feb':'2','Mar':'3','Apr':'4','May':'5','Jun':'6','Jul':'7','Aug':'8','Sep':'9','Oct':'10','Nov':'11','Dec':'12'}\n",
    "    for i in dct:\n",
    "        if i==a[0]:\n",
    "            month=int(dct[i])\n",
    "#             print(month)\n",
    "    day=int(a[1])\n",
    "    year=int(a[2])\n",
    "    post_date=date(year,month,day)\n",
    "    print(month,day,year)\n",
    "    print(post_date)\n",
    "#     print(date,len(date))\n",
    "#     print(a)\n",
    "    time.sleep(3)\n",
    "    (WebDriverWait(driver,20).until(EC.element_to_be_clickable((By.CSS_SELECTOR,'div.futnfnd5.li38xygf.q0p5rdf8.mudwbb97')))).click()"
   ]
  },
  {
   "cell_type": "code",
   "execution_count": null,
   "id": "ec5a89c3",
   "metadata": {},
   "outputs": [],
   "source": [
    "from datetime import date\n",
    " \n",
    "# initializing constructor\n",
    "# and passing arguments in the\n",
    "# format year, month, date\n",
    "a = date(1996, 12, 11)\n",
    "b =date.today()\n",
    " \n",
    "print(\"Date passed as argument is\", my_date)\n",
    "print(type(my_date))\n",
    "print(a>b)\n"
   ]
  },
  {
   "cell_type": "markdown",
   "id": "b47ae692",
   "metadata": {},
   "source": [
    "## Your friend also needs a list of hashtags that he should use in his posts.\n",
    "## Open the 5 handles you obtained in the last question, and scrape the content of the first 10 posts of each handle."
   ]
  },
  {
   "cell_type": "code",
   "execution_count": null,
   "id": "e03d852f",
   "metadata": {},
   "outputs": [],
   "source": [
    "def hashtag(nm,num1,num2):\n",
    "    search(nm)\n",
    "    c=WebDriverWait(driver,30).until(EC.presence_of_all_elements_located((By.XPATH,'//div[@role=\"none\"]')))\n",
    "    lst=[]\n",
    "    l=[]\n",
    "    for i in c[:num1]:\n",
    "        z=(i.text).split('\\n')\n",
    "        if z[0]!='#':\n",
    "            lst.append(z[0])\n",
    "    for k in lst:\n",
    "        open_profile('')\n",
    "        time.sleep(1)\n",
    "        try:\n",
    "            private=WebDriverWait(driver,30).until(EC.presence_of_element_located((By.CSS_SELECTOR,'button._acan._acap._acat')))\n",
    "            post=WebDriverWait(driver,30).until(EC.presence_of_all_elements_located((By.CSS_SELECTOR,'div._aagw')))\n",
    "            try:\n",
    "                for i in post[:num2]:\n",
    "                    i.click()\n",
    "                    #     click=WebDriverWait(driver,30).until(EC.presence_of_all_elements_located((By.CSS_SELECTOR,'span.aacl_aaco_aacu_aacx_aad7_aade'))).get_attribute('title')\n",
    "                    click=WebDriverWait(driver,30).until(EC.presence_of_all_elements_located((By.CSS_SELECTOR,'a.oajrlxb2.g5ia77u1.qu0x051f.esr5mh6w.e9989ue4.r7d6kgcz.rq0escxv.nhd2j8a9.nc684nl6.p7hjln8o.kvgmc6g5.cxmmr5t8.oygrvhab.hcukyx3x.jb3vyjys.rz4wbd8a.qt6c0cv9.a8nywdso.i1ao9s8h.esuyzwwr.f1sip0of.lzcic4wl._aa9_._a6hd')))\n",
    "                    time.sleep(3)\n",
    "                    for j in click:\n",
    "                        l.append(j.text)\n",
    "                    #         print(j.text)\n",
    "                    (WebDriverWait(driver,20).until(EC.element_to_be_clickable((By.CSS_SELECTOR,'div.futnfnd5.li38xygf.q0p5rdf8.mudwbb97')))).click()\n",
    "            except:\n",
    "                pass\n",
    "        except:\n",
    "#             if private.text is in k:\n",
    "            pass\n",
    "    print(l)\n",
    "    dct={}\n",
    "    cnt=0\n",
    "    for i in l:\n",
    "        if i in dct:\n",
    "            dct[i]+=1\n",
    "        else:\n",
    "            dct[i]=1\n",
    "#     print(dct)\n",
    "    return dct"
   ]
  },
  {
   "cell_type": "code",
   "execution_count": null,
   "id": "35ac4a47",
   "metadata": {},
   "outputs": [],
   "source": [
    "a=hashtag('food',2,2)\n",
    "print(a)"
   ]
  },
  {
   "cell_type": "code",
   "execution_count": null,
   "id": "2da60ffd",
   "metadata": {},
   "outputs": [],
   "source": [
    "marklist = sorted(a.items(), key=lambda x:x[1], reverse=True)\n",
    "sortdict = dict(marklist)\n",
    "# print(sortdict)\n",
    "out = dict(list(sortdict.items())[0: 5]) \n",
    "print(out)"
   ]
  }
 ],
 "metadata": {
  "kernelspec": {
   "display_name": "Python 3 (ipykernel)",
   "language": "python",
   "name": "python3"
  },
  "language_info": {
   "codemirror_mode": {
    "name": "ipython",
    "version": 3
   },
   "file_extension": ".py",
   "mimetype": "text/x-python",
   "name": "python",
   "nbconvert_exporter": "python",
   "pygments_lexer": "ipython3",
   "version": "3.10.6"
  }
 },
 "nbformat": 4,
 "nbformat_minor": 5
}
