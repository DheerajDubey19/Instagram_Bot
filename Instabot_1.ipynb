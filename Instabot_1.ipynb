{
 "cells": [
  {
   "cell_type": "code",
   "execution_count": null,
   "id": "1e3d2697",
   "metadata": {},
   "outputs": [],
   "source": [
    "from selenium import webdriver\n",
    "import time\n",
    "from selenium.webdriver.common.keys import Keys\n",
    "from selenium.webdriver.support.ui import WebDriverWait\n",
    "from selenium.webdriver.support import expected_conditions as EC\n",
    "from selenium.webdriver.common.by import By\n",
    "from selenium.common.exceptions import StaleElementReferenceException,TimeoutException,NoSuchElementException"
   ]
  },
  {
   "cell_type": "code",
   "execution_count": null,
   "id": "5752a40c",
   "metadata": {},
   "outputs": [],
   "source": [
    "driver=webdriver.Chrome('C:\\Program Files\\Python310\\chromedriver')\n",
    "driver.get('https://www.instagram.com/accounts/login/?hl=en')"
   ]
  },
  {
   "cell_type": "markdown",
   "id": "73fa3447",
   "metadata": {},
   "source": [
    "## Login to your Instagram Handle"
   ]
  },
  {
   "cell_type": "code",
   "execution_count": null,
   "id": "c5c39484",
   "metadata": {},
   "outputs": [],
   "source": [
    "def login(use,pasd):\n",
    "    user=driver.find_element_by_xpath('//*[@id=\"loginForm\"]/div/div[1]/div/label/input')\n",
    "    user.click()\n",
    "    user.send_keys(use)\n",
    "    password=driver.find_element_by_xpath('//*[@id=\"loginForm\"]/div/div[2]/div/label/input')\n",
    "    password.click()\n",
    "    password.send_keys(pasd)\n",
    "    login=WebDriverWait(driver,10).until(EC.presence_of_element_located((By.XPATH,'//form[@id=\"loginForm\"]/div/div[3]')))\n",
    "    login.click()\n",
    "    time.sleep(3)\n",
    "    try:\n",
    "        info=WebDriverWait(driver,10).until(EC.presence_of_element_located((By.CSS_SELECTOR,'button.sqdOP.yWX7d.y3zKF')))\n",
    "        info.click()\n",
    "    except:\n",
    "        pass\n",
    "    time.sleep(3)\n",
    "    try:\n",
    "        noti=WebDriverWait(driver,10).until(EC.presence_of_element_located((By.CSS_SELECTOR,'button._a9--._a9_1')))\n",
    "        noti.click()\n",
    "    except:\n",
    "        pass"
   ]
  },
  {
   "cell_type": "code",
   "execution_count": null,
   "id": "2d04573e",
   "metadata": {},
   "outputs": [],
   "source": [
    "login('instagram id','password')"
   ]
  },
  {
   "cell_type": "markdown",
   "id": "a44f91dc",
   "metadata": {},
   "source": [
    "## Search 'food'"
   ]
  },
  {
   "cell_type": "code",
   "execution_count": null,
   "id": "2b92cc5c",
   "metadata": {},
   "outputs": [],
   "source": [
    "def search(nm):\n",
    "    try:\n",
    "        search_box=driver.find_element_by_class_name('_aaw9')\n",
    "        search_box.click()\n",
    "    except:\n",
    "        pass\n",
    "    time.sleep(2)\n",
    "    \n",
    "    try:\n",
    "        cut=WebDriverWait(driver,10).until(EC.presence_of_element_located((By.CLASS_NAME,'_aawn._9-lv')))\n",
    "        cut.click()\n",
    "    except:\n",
    "        pass\n",
    "    time.sleep(1)\n",
    "    \n",
    "\n",
    "    try:\n",
    "        search_box=driver.find_element_by_class_name('_aaw9')\n",
    "        search_box.click()\n",
    "    except:\n",
    "        pass\n",
    "    time.sleep(2)\n",
    "    \n",
    "    input_text=WebDriverWait(driver,10).until(EC.element_to_be_clickable((By.XPATH, \"//input[@placeholder='Search']\")))\n",
    "    input_text.send_keys(nm)"
   ]
  },
  {
   "cell_type": "code",
   "execution_count": null,
   "id": "99fb824f",
   "metadata": {},
   "outputs": [],
   "source": [
    "search('food')\n",
    "c=WebDriverWait(driver,30).until(EC.presence_of_all_elements_located((By.XPATH,'//div[@role=\"none\"]')))\n",
    "for i in c:\n",
    "    z=(i.text).split('\\n')\n",
    "#     if z[0]!='#':\n",
    "    print(z[0])"
   ]
  },
  {
   "cell_type": "code",
   "execution_count": null,
   "id": "21c3b1c2",
   "metadata": {},
   "outputs": [],
   "source": []
  },
  {
   "cell_type": "markdown",
   "id": "479477e4",
   "metadata": {},
   "source": [
    "## Searching and Opening a profile using \n",
    "## Open profile of “So Delhi” "
   ]
  },
  {
   "cell_type": "code",
   "execution_count": null,
   "id": "a6695a21",
   "metadata": {},
   "outputs": [],
   "source": [
    "def open_profile(nm):\n",
    "    search(nm) \n",
    "    open_So_Delhi=WebDriverWait(driver,30).until(EC.presence_of_element_located((By.CLASS_NAME,'oajrlxb2.g5ia77u1.qu0x051f.esr5mh6w.e9989ue4.r7d6kgcz.rq0escxv.nhd2j8a9.nc684nl6.p7hjln8o.kvgmc6g5.cxmmr5t8.oygrvhab.hcukyx3x.jb3vyjys.rz4wbd8a.qt6c0cv9.a8nywdso.i1ao9s8h.esuyzwwr.f1sip0of.lzcic4wl._abm4._a6hd')))\n",
    "    open_So_Delhi.click()"
   ]
  },
  {
   "cell_type": "code",
   "execution_count": null,
   "id": "bc28dd1d",
   "metadata": {},
   "outputs": [],
   "source": [
    "open_profile('So Delhi')\n",
    "driver.back()"
   ]
  },
  {
   "cell_type": "markdown",
   "id": "59f55f9c",
   "metadata": {},
   "source": [
    "## Follow/Unfollow given handle - \n",
    "## Open the Instagram Handle of “So Delhi”\n",
    "## Start following it. Print a message if you are already following\n",
    "## After following, unfollow the instagram handle. Print a message if you have already unfollowed."
   ]
  },
  {
   "cell_type": "code",
   "execution_count": null,
   "id": "ace56b55",
   "metadata": {},
   "outputs": [],
   "source": [
    "open_profile('So Delhi')\n",
    "driver.back()"
   ]
  },
  {
   "cell_type": "code",
   "execution_count": null,
   "id": "d6456589",
   "metadata": {},
   "outputs": [],
   "source": [
    "def id_follow(nm):\n",
    "    open_profile(nm)\n",
    "    try:\n",
    "        follow=WebDriverWait(driver,30).until(EC.presence_of_element_located((By.CSS_SELECTOR,'button._acan._acap._acas')))\n",
    "        follow.click()\n",
    "        print('followed')\n",
    "    except:\n",
    "        print('You are already following')\n",
    "    driver.back()"
   ]
  },
  {
   "cell_type": "code",
   "execution_count": null,
   "id": "7dcece31",
   "metadata": {},
   "outputs": [],
   "source": [
    "id_follow('So Delhi')"
   ]
  },
  {
   "cell_type": "code",
   "execution_count": null,
   "id": "58012493",
   "metadata": {},
   "outputs": [],
   "source": [
    "def id_unfollow(nm):\n",
    "    open_profile(nm)\n",
    "    time.sleep(5)\n",
    "    try:\n",
    "        print('hi')\n",
    "        (WebDriverWait(driver,30).until(EC.element_to_be_clickable((By.CSS_SELECTOR,'div._ab8w._ab94._ab99._ab9f._ab9m._ab9p._abb0._abcm')))).click()\n",
    "        print('bye')\n",
    "        print('sorry')\n",
    "        time.sleep(1)\n",
    "        (WebDriverWait(driver,30).until(EC.element_to_be_clickable((By.CSS_SELECTOR,'button._a9--._a9-_')))).click()\n",
    "        print('phirse hi')\n",
    "        time.sleep(1)\n",
    "        print('not followed')\n",
    "    except (TimeoutException,NoSuchElementException):\n",
    "        print('You are already not following')\n",
    "    driver.back()"
   ]
  },
  {
   "cell_type": "code",
   "execution_count": null,
   "id": "49ba850f",
   "metadata": {},
   "outputs": [],
   "source": [
    "id_unfollow('So Delhi')"
   ]
  },
  {
   "cell_type": "markdown",
   "id": "6be0ee30",
   "metadata": {},
   "source": [
    "## Like/Unlike posts\n",
    "## Liking the top 30 posts of the ‘dilsefoodie'. Print message if you have already liked it.\n",
    "## Unliking the top 30 posts of the ‘dilsefoodie’. Print message if you have already unliked it."
   ]
  },
  {
   "cell_type": "code",
   "execution_count": null,
   "id": "b9f6358e",
   "metadata": {},
   "outputs": [],
   "source": [
    "def like(nm):\n",
    "    open_profile(nm)\n",
    "    time.sleep(5)\n",
    "    a=WebDriverWait(driver,30).until(EC.presence_of_all_elements_located((By.CSS_SELECTOR,'div._aagw')))\n",
    "    cnt=1\n",
    "    for i in a:\n",
    "        if cnt<=30:\n",
    "            i.click()\n",
    "            time.sleep(2)\n",
    "            try:\n",
    "                a=WebDriverWait(driver,10).until(EC.element_to_be_clickable((By.CSS_SELECTOR,'div._abm0._abl_')))\n",
    "                try:\n",
    "                    (WebDriverWait(driver,10).until(EC.element_to_be_clickable((By.CSS_SELECTOR,'span._aame')))).click()\n",
    "                except:\n",
    "                    print('error')\n",
    "            except:\n",
    "                print('You Already liked it',cnt)\n",
    "            (WebDriverWait(driver,20).until(EC.element_to_be_clickable((By.CSS_SELECTOR,'div.futnfnd5.li38xygf.q0p5rdf8.mudwbb97')))).click()\n",
    "            cnt+=1"
   ]
  },
  {
   "cell_type": "code",
   "execution_count": null,
   "id": "0d40b27b",
   "metadata": {},
   "outputs": [],
   "source": [
    "like('So Delhi')"
   ]
  },
  {
   "cell_type": "code",
   "execution_count": null,
   "id": "9d1aac7f",
   "metadata": {},
   "outputs": [],
   "source": [
    "def unlike():\n",
    "#     open_profile(nm)\n",
    "#     time.sleep(5)\n",
    "    a=WebDriverWait(driver,30).until(EC.presence_of_all_elements_located((By.CSS_SELECTOR,'div._aagw')))\n",
    "    cnt=0\n",
    "    for i in a:\n",
    "        if cnt<30:\n",
    "            i.click()\n",
    "            time.sleep(2)\n",
    "            try:\n",
    "                (WebDriverWait(driver,10).until(EC.element_to_be_clickable((By.CLASS_NAME,'_abm0')))).click()\n",
    "            except:\n",
    "                print('You Already unliked it',cnt)\n",
    "            (WebDriverWait(driver,20).until(EC.element_to_be_clickable((By.CSS_SELECTOR,'div.futnfnd5.li38xygf.q0p5rdf8.mudwbb97')))).click()\n",
    "            cnt+=1"
   ]
  },
  {
   "cell_type": "code",
   "execution_count": null,
   "id": "3f640179",
   "metadata": {},
   "outputs": [],
   "source": [
    "unlike()"
   ]
  },
  {
   "cell_type": "markdown",
   "id": "3f9ccb77",
   "metadata": {},
   "source": [
    "## Extract list of followers\n",
    "## Extract the usernames of the first 500 followers of ‘foodtalkindia’ and ‘sodelhi’.\n",
    "## Now print all the followers of “foodtalkindia” that you are following but those who don’t follow you."
   ]
  },
  {
   "cell_type": "code",
   "execution_count": null,
   "id": "cef54d3f",
   "metadata": {},
   "outputs": [],
   "source": [
    "open_profile('foodtalkindia')"
   ]
  },
  {
   "cell_type": "code",
   "execution_count": null,
   "id": "c4a7e732",
   "metadata": {
    "scrolled": true
   },
   "outputs": [],
   "source": [
    "follower=WebDriverWait(driver,10).until(EC.presence_of_all_elements_located((By.CSS_SELECTOR,'ul._aa_7>li')))\n",
    "follower[1].click()"
   ]
  },
  {
   "cell_type": "code",
   "execution_count": null,
   "id": "cf421c4e",
   "metadata": {
    "scrolled": true
   },
   "outputs": [],
   "source": [
    "followers=WebDriverWait(driver,30).until(EC.presence_of_all_elements_located((By.CSS_SELECTOR,'span._aacl._aaco._aacw._aacx._aad7._aade')))\n"
   ]
  },
  {
   "cell_type": "code",
   "execution_count": null,
   "id": "2bf3ee6d",
   "metadata": {},
   "outputs": [],
   "source": [
    "def followers(driver,nm,number):\n",
    "    open_profile(nm)\n",
    "    \n",
    "    all_detail=WebDriverWait(driver,15).until(EC.presence_of_all_elements_located((By.CSS_SELECTOR,'ul._aa_7 >li')))\n",
    "\n",
    "    \n",
    "    all_detail[1].click()\n",
    "    time.sleep(2)\n",
    "\n",
    "    l=set()\n",
    "    cur_height = driver.execute_script('return document.getElementsByClassName(\"_aano\")[0].scrollHeight;')\n",
    "    follower=WebDriverWait(driver,15).until(EC.presence_of_all_elements_located((By.CSS_SELECTOR,'span._aacl._aaco._aacw._aacx._aad7._aade')))\n",
    "    while len(follower) <= number :\n",
    "      \n",
    "        driver.execute_script('document.getElementsByClassName(\"_aano\")[0].scrollTo(0, arguments[0]);', cur_height)\n",
    "        new_height = driver.execute_script('return document.getElementsByClassName(\"_aano\")[0].scrollHeight;')\n",
    "\n",
    "        cur_height=2*new_height\n",
    "        try:\n",
    "            follower=WebDriverWait(driver,15).until(EC.presence_of_all_elements_located((By.CSS_SELECTOR,'span._aacl._aaco._aacw._aacx._aad7._aade')))\n",
    "        except:\n",
    "            print('error')\n",
    "    for i in follower[:number]:\n",
    "        l.add(i.text)\n",
    "    return l"
   ]
  },
  {
   "cell_type": "code",
   "execution_count": null,
   "id": "c827bbb4",
   "metadata": {},
   "outputs": [],
   "source": [
    "foller=followers(driver,'hi_songjoongki',200)\n",
    "print(foll)"
   ]
  },
  {
   "cell_type": "code",
   "execution_count": null,
   "id": "d5c93d09",
   "metadata": {},
   "outputs": [],
   "source": [
    "followers(driver,'foodtalkindia',500)"
   ]
  },
  {
   "cell_type": "code",
   "execution_count": null,
   "id": "9718f5b1",
   "metadata": {},
   "outputs": [],
   "source": [
    "followers(driver,'so delhi',500)"
   ]
  },
  {
   "cell_type": "code",
   "execution_count": null,
   "id": "a0e0d290",
   "metadata": {},
   "outputs": [],
   "source": [
    "(WebDriverWait(driver,10).until(EC.element_to_be_clickable((By.CSS_SELECTOR,'div._aaav')))).click()\n",
    "(WebDriverWait(driver,10).until(EC.element_to_be_clickable((By.CSS_SELECTOR,'div._ab8w._ab94._ab99._ab9h._ab9m._ab9o._abcm')))).click()\n"
   ]
  },
  {
   "cell_type": "code",
   "execution_count": null,
   "id": "cc53c6dc",
   "metadata": {},
   "outputs": [],
   "source": [
    "def my_follower(nm):\n",
    "    \n",
    "    open_profile(nm)\n",
    "    all_detail=WebDriverWait(driver,15).until(EC.presence_of_all_elements_located((By.CSS_SELECTOR,'ul._aa_7 >li')))\n",
    "    \n",
    "    total_followers=(all_detail[1].text.split(\" \"))[0].replace(',',\"\")\n",
    "    if 'K' in total_followers:\n",
    "        total_followers=float(total_followers.replace('K',''))*1000\n",
    "    elif 'M' in total_followers:\n",
    "         total_followers=float(total_followers.replace('M',''))*100000\n",
    "    print(total_followers)\n",
    "\n",
    "    all_detail[1].click()\n",
    "    time.sleep(2)\n",
    "    l=[]\n",
    "    cur_height = driver.execute_script('return document.getElementsByClassName(\"_aano\")[0].scrollHeight;')\n",
    "    follower=WebDriverWait(driver,15).until(EC.presence_of_all_elements_located((By.CSS_SELECTOR,'span._aacl._aaco._aacw._aacx._aad7._aade')))\n",
    "    while len(follower)<int(total_followers):\n",
    "      \n",
    "        driver.execute_script('document.getElementsByClassName(\"_aano\")[0].scrollTo(0, arguments[0]);', cur_height)\n",
    "        new_height = driver.execute_script('return document.getElementsByClassName(\"_aano\")[0].scrollHeight;')\n",
    "        cur_height=2*new_height\n",
    "        try:\n",
    "            follower=WebDriverWait(driver,15).until(EC.presence_of_all_elements_located((By.CSS_SELECTOR,'span._aacl._aaco._aacw._aacx._aad7._aade')))\n",
    "        except:\n",
    "            print('error')\n",
    "    for i in follower[:int(total_followers)]:\n",
    "        l.append(i.text)\n",
    "    return set(l)"
   ]
  },
  {
   "cell_type": "code",
   "execution_count": null,
   "id": "17caaaf0",
   "metadata": {},
   "outputs": [],
   "source": [
    "my1=my_follower('follwer id')\n",
    "print(my1)"
   ]
  },
  {
   "cell_type": "code",
   "execution_count": null,
   "id": "a07cc24d",
   "metadata": {},
   "outputs": [],
   "source": [
    "def my_following(nm):\n",
    "    \n",
    "    open_profile(nm)\n",
    "    all_detail=WebDriverWait(driver,15).until(EC.presence_of_all_elements_located((By.CSS_SELECTOR,'ul._aa_7 >li')))\n",
    "    \n",
    "    total_following=(all_detail[2].text.split(\" \"))[0].replace(',',\"\")\n",
    "    if 'K' in total_following:\n",
    "        total_following=float(total_followers.replace('K',''))*1000\n",
    "    elif 'M' in total_following:\n",
    "         total_following=float(total_followers.replace('M',''))*100000\n",
    "    print(total_following)\n",
    "    \n",
    "    all_detail[2].click()\n",
    "    time.sleep(2)\n",
    "    l=[]\n",
    "    cur_height = driver.execute_script('return document.getElementsByClassName(\"_aano\")[0].scrollHeight;')\n",
    "    following=WebDriverWait(driver,15).until(EC.presence_of_all_elements_located((By.CSS_SELECTOR,'span._aacl._aaco._aacw._aacx._aad7._aade')))\n",
    "    while len(following)<int(total_following):\n",
    "      \n",
    "        driver.execute_script('document.getElementsByClassName(\"_aano\")[0].scrollTo(0, arguments[0]);', cur_height)\n",
    "        new_height = driver.execute_script('return document.getElementsByClassName(\"_aano\")[0].scrollHeight;')\n",
    "        cur_height=2*new_height\n",
    "        try:\n",
    "            following=WebDriverWait(driver,15).until(EC.presence_of_all_elements_located((By.CSS_SELECTOR,'span._aacl._aaco._aacw._aacx._aad7._aade')))\n",
    "        except:\n",
    "            print('error')\n",
    "    for i in following[:int(total_following)]:\n",
    "        l.append(i.text)\n",
    "    return set(l)"
   ]
  },
  {
   "cell_type": "code",
   "execution_count": null,
   "id": "34ac5a70",
   "metadata": {},
   "outputs": [],
   "source": [
    "my2=my_following('following id')\n",
    "print(my2)"
   ]
  },
  {
   "cell_type": "code",
   "execution_count": null,
   "id": "a1afc134",
   "metadata": {},
   "outputs": [],
   "source": [
    "my3=set()\n",
    "my3=my1-my2\n",
    "print(my3)"
   ]
  },
  {
   "cell_type": "markdown",
   "id": "1fcf9bc8",
   "metadata": {},
   "source": [
    "## Check the story of ‘coding.ninjas’. Consider the following Scenarios and print error messages accordingly -\n",
    "## If You have already seen the story.\n",
    "## Or The user has no story.\n",
    "## Or View the story if not yet seen."
   ]
  },
  {
   "cell_type": "code",
   "execution_count": null,
   "id": "d861d2b7",
   "metadata": {},
   "outputs": [],
   "source": [
    "def story(nm):\n",
    "    open_profile(nm)\n",
    "    a=WebDriverWait(driver,10).until(EC.element_to_be_clickable((By.CSS_SELECTOR,'canvas._aarh')))\n",
    "\n",
    "    if a.get_attribute('height')=='210':\n",
    "        try:\n",
    "            (WebDriverWait(driver,10).until(EC.element_to_be_clickable((By.CSS_SELECTOR,'div._aarf._aarg')))).click()\n",
    "            print(\"seen\")\n",
    "        except:\n",
    "            print('No story')\n",
    "    elif a.get_attribute('height')=='208':\n",
    "        print(\"already seen\")"
   ]
  },
  {
   "cell_type": "code",
   "execution_count": null,
   "id": "02e87f52",
   "metadata": {},
   "outputs": [],
   "source": [
    "story('')"
   ]
  },
  {
   "cell_type": "code",
   "execution_count": null,
   "id": "2cc0cd09",
   "metadata": {},
   "outputs": [],
   "source": [
    "driver.quit()"
   ]
  }
 ],
 "metadata": {
  "kernelspec": {
   "display_name": "Python 3 (ipykernel)",
   "language": "python",
   "name": "python3"
  },
  "language_info": {
   "codemirror_mode": {
    "name": "ipython",
    "version": 3
   },
   "file_extension": ".py",
   "mimetype": "text/x-python",
   "name": "python",
   "nbconvert_exporter": "python",
   "pygments_lexer": "ipython3",
   "version": "3.10.6"
  }
 },
 "nbformat": 4,
 "nbformat_minor": 5
}
